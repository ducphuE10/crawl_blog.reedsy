{
 "cells": [
  {
   "cell_type": "code",
   "execution_count": 92,
   "metadata": {},
   "outputs": [],
   "source": [
    "from bs4 import BeautifulSoup\n",
    "import urllib.request\n",
    "from lxml import etree\n",
    "import pandas as pd \n"
   ]
  },
  {
   "cell_type": "code",
   "execution_count": 93,
   "metadata": {},
   "outputs": [],
   "source": [
    "lst_crawl = ['https://monkeypen.com/pages/free-childrens-books'\n",
    "            ,'https://monkeypen.com/pages/free-bed-time-stories'\n",
    "            ,'https://monkeypen.com/pages/free-stories-for-kids'\n",
    "            ,'https://monkeypen.com/pages/free-childrens-picture-books'\n",
    "            ,'https://monkeypen.com/pages/free-illustrated-childrens-book'\n",
    "            ]"
   ]
  },
  {
   "cell_type": "code",
   "execution_count": 94,
   "metadata": {},
   "outputs": [],
   "source": [
    "def title_process(lst):\n",
    "    return [i[5:] for i in lst]\n",
    "    \n",
    "def preprocess(lst_text):\n",
    "    x = '\\n'.join(lst_text)\n",
    "    x = x.replace(u'\\xa0', u' ')\n",
    "\n",
    "    return x "
   ]
  },
  {
   "cell_type": "code",
   "execution_count": 179,
   "metadata": {},
   "outputs": [],
   "source": [
    "titles = []\n",
    "text = []\n",
    "\n",
    "for url in lst_crawl:\n",
    "    page = urllib.request.urlopen(url)\n",
    "    soup = BeautifulSoup(page, 'html.parser')\n",
    "    dom = etree.HTML(str(soup))\n",
    "\n",
    "    content_urls = dom.xpath(\"//*[@id='prod']/a/@href\")\n",
    "    id_titles = dom.xpath(\"//*[@id='prod']/div/h4[2]/strong//text()\")\n",
    "    titles.extend(title_process(id_titles))\n",
    "\n",
    "    for content_url in content_urls:\n",
    "        # print(content_url)\n",
    "        c_page = urllib.request.urlopen(content_url)\n",
    "        c_soup = BeautifulSoup(c_page, 'html.parser')\n",
    "        c_dom = etree.HTML(str(c_soup))\n",
    "        content =c_dom.xpath(\"//p[@style = 'text-align: left;']/text() | //p[@style = 'text-align: left;']/strong/text() |//div[@style = 'text-align: left;']/strong/text() |//div[@style = 'text-align: start;']/text()\")\n",
    "    #     # print(text)\n",
    "        content = preprocess(content)\n",
    "        text.append(content)\n",
    "\n",
    "    #     print(text)\n",
    "    #     break\n",
    "    # break\n",
    "# print(titles)\n",
    "# print(len(text))"
   ]
  },
  {
   "cell_type": "code",
   "execution_count": 180,
   "metadata": {},
   "outputs": [
    {
     "data": {
      "text/plain": [
       "['HIDE AND SEEK',\n",
       " 'Ginger The Giraffe ',\n",
       " 'DOING MY CHORES',\n",
       " 'ABE THE SERVICE DOG',\n",
       " 'SUNNY MEADOWS WOODLAND SCHOOL',\n",
       " 'TOOTH FAIRY',\n",
       " 'HAMMY THE HAMSTER',\n",
       " 'THE CASE OF THE MISSING SMILE',\n",
       " 'HOMEWORK - YUCK!',\n",
       " 'CAPTAIN FANTASTIC',\n",
       " 'DYLAN THE DRAGON',\n",
       " 'JESSIE THE RABBIT',\n",
       " 'DO YOU WONDER WHY BUGS ARE GOOD?',\n",
       " 'A TRICK TRIKE',\n",
       " 'KROAKER, THE BULLFROG ',\n",
       " 'MIX IT UP ',\n",
       " 'UP IN THE AIR',\n",
       " 'HEY MOM, WHAT IS DIVERSITY?',\n",
       " 'BUBBLE FUN',\n",
       " 'HECTOR THE HERMIT CRAB',\n",
       " 'DO YOU WONDER ABOUT RAIN, SNOW, SLEET AND HAIL?',\n",
       " 'I FOUND A FROG',\n",
       " 'A DOG ON A LOG',\n",
       " 'ARE WE THERE YET?',\n",
       " 'DRAGONS',\n",
       " 'THE HIKE',\n",
       " 'PIRATES COVE',\n",
       " 'THE WAY OF THE WOODS',\n",
       " \"JIMMY'S FIRST DAY OF SCHOOL\",\n",
       " 'BULLY BILL',\n",
       " \"ERRANCE TURTLE'S NEW HOME\",\n",
       " 'GABBY ABBY',\n",
       " 'DO YOU WONDER HOW SNAKES SLITHER?',\n",
       " 'MARTY MONGOOSE',\n",
       " 'BUZZ THE BUZZARD',\n",
       " 'DO YOU WONDER HOW THE LADYBUG GOT ITS NAME?',\n",
       " 'THE NAUGHTY MONKEY',\n",
       " 'THERE IS A MOUSE IN THE HOUSE',\n",
       " 'MY FIRST PET',\n",
       " 'THE AMAZING INVISIBLE TIGER',\n",
       " 'THE FLOWER GARDEN',\n",
       " 'STOP AND GO',\n",
       " 'THE HOMELESS MONKEY',\n",
       " 'SAMATHA, THE GIRL SCIENTIST',\n",
       " 'SAMUEL, THE BOY SCIENTIST',\n",
       " 'UP AND DOWN AND ALL AROUND',\n",
       " 'THE LUNKER',\n",
       " 'MY NEW MATH TRICK',\n",
       " 'CLARICE THE CAT',\n",
       " 'LEARNING ABOUT \"NO\"']"
      ]
     },
     "execution_count": 180,
     "metadata": {},
     "output_type": "execute_result"
    }
   ],
   "source": [
    "titles"
   ]
  },
  {
   "cell_type": "code",
   "execution_count": 63,
   "metadata": {},
   "outputs": [],
   "source": [
    "def age_process(lst):\n",
    "    return [i[3:] for i in lst]\n",
    "\n",
    "def title_process(lst):\n",
    "    return [i[5:] for i in lst]"
   ]
  },
  {
   "cell_type": "code",
   "execution_count": 175,
   "metadata": {},
   "outputs": [],
   "source": [
    "# age_range = [i +','+ j for (i,j) in zip(age_process(age_range_1),age_process(age_range_2))]\n",
    "genre = [None  for i in titles]\n",
    "age_range = [None for i in titles]\n",
    "\n",
    "df = pd.DataFrame(list(zip(text,titles,genre ,age_range)),\n",
    "               columns =['text', 'title','genre','age_range'])"
   ]
  },
  {
   "cell_type": "code",
   "execution_count": 209,
   "metadata": {},
   "outputs": [],
   "source": [
    "def preprocess_text(text):\n",
    "    text = text.replace(\"Click here to read more Free\",\"\")\n",
    "    text = text.replace(\"Please share our books with your friends and family to support our mission. Thank you\",\"\")\n",
    "    text = text.strip()\n",
    "    text = text.strip(\" \")\n",
    "    return text"
   ]
  },
  {
   "cell_type": "code",
   "execution_count": 219,
   "metadata": {},
   "outputs": [
    {
     "data": {
      "text/plain": [
       "0     A simple game of hide-and-seek leads the child...\n",
       "1     Once upon a time, there was a giraffe named Gi...\n",
       "2     I like doing my chores.\\nWell, maybe not all o...\n",
       "3     “Hi, I am Abe and I am a Service Dog.\\nWhen I ...\n",
       "4     The sun shone brightly over the meadow as Clas...\n",
       "5     Incisor was tall and skinny with short pink ha...\n",
       "6     I am Hammy the Hamster.\\nI live with my mother...\n",
       "7     “Now this looks like a very interesting case,”...\n",
       "8     When Jamal opened the door, his mother could t...\n",
       "9     By T. Albert\\nIllustrated by: maaillustrations...\n",
       "10    Dylan the young, blue\\n dragon lived deep in t...\n",
       "11    All the animals of the forest tease \\nJessie t...\n",
       "12    Little Betty was walking through their vegetab...\n",
       "13                                                     \n",
       "14    Not long ago, in a crystal-clear river, near a...\n",
       "15    “Hi! My name is Sally and I live in New York C...\n",
       "16    If you feel left out of all that fun Don’t cry...\n",
       "17    \"It was fine,\" she said with a big smile.\"But ...\n",
       "18    “Wow!” Tristan said as he watched the man on t...\n",
       "19                                                     \n",
       "20    Hi, I am Professor Mois Ture and I will be tel...\n",
       "21    She gave me a bowl, told me to go catch a few,...\n",
       "22    On a beach by a tree, sat my family and me.\\nT...\n",
       "23    Jennie and Jimmy were twins and were they exci...\n",
       "24    The Chinese love dragons. They believe that th...\n",
       "25    “It will be an all day hike,” He replied. “I t...\n",
       "26    Arrgh, me hearties, I has a story for ye, a st...\n",
       "27    Many years ago, deep in the North Woods, lived...\n",
       "28    Jimmy had just turned 5 and was starting schoo...\n",
       "29    Bill is on a bullying spree. He believes that ...\n",
       "30    On a huge mountain, in a big forest, there was...\n",
       "31    “Hi! My name is Abigail and I just love to tal...\n",
       "32    Sammy saw the snake and snuck around its side....\n",
       "33    In the rainforest, next to a wide river, there...\n",
       "34    As Buzz the Buzzard began to grow, he became m...\n",
       "35    Early one spring day, Sally Sue and her mommy ...\n",
       "36    Ashley ,the Rabbit has three new friends!  The...\n",
       "37    There’s a mouse in the house and I saw him tod...\n",
       "38    My name is Allie Kay and I would like to tell ...\n",
       "39    Sophie and Ashley have a new friend.  His name...\n",
       "40    “I’m Rose.” “I’m Violet.” “And we are identica...\n",
       "41                                                     \n",
       "42    Once upon a time, there lived a monkey who had...\n",
       "43    “Hi! My name is Samantha and I want to be a sc...\n",
       "44    “Hi! My name is Samuel and I want to be a scie...\n",
       "45    I am Freddie and I just learned something. No ...\n",
       "46    The fish were  there for him to take.\\nThursda...\n",
       "47    Hi! My name is Mathew. That’s Math_ _ as is ma...\n",
       "48    Meow!! I mean: Hello, I am Clarice the Cat.\\nI...\n",
       "49    Sophia was excited. She was now in the 2nd gra...\n",
       "Name: text, dtype: object"
      ]
     },
     "execution_count": 219,
     "metadata": {},
     "output_type": "execute_result"
    }
   ],
   "source": [
    "df['text'].apply(preprocess_text)"
   ]
  },
  {
   "cell_type": "code",
   "execution_count": 203,
   "metadata": {},
   "outputs": [],
   "source": [
    "dct = {1:'4-12',2:'4-12',3:'0-7',4:'0-7',5:'4-12',6:'4-12',7:'0-7',8:'4-12',9:'4-12',10:'4-12',11:'4-12',\\\n",
    "12:'4-12',13:'4-12', 14:'4-12', 15:'4-12',16:'4-12',17:'0-7',18:'4-12',19:'4-12',20:'4-12',21:'4-12',22:'4-12',\\\n",
    "    23:'0-7',24:'4-12',25:'4-12',26:'4-12',27:'4-12',28:'4-12',29:'0-7',30:'4-12',31:'4-12',32:'4-12',33:'4-12',34:'4-12',35:'4-12',\\\n",
    "        36:'4-12',37:'4-12',38:'4-12',39:'4-12',40:'4-12',41:'4-12',42:'0-7',43:'4-12',44:'4-12',45:'4-12',\\\n",
    "            46:'0-7',47:'0-7',48:'4-12',49:'0-7',50:'4-12'}\n",
    "\n",
    "for i in range(50):\n",
    "    df['age_range'][i] = dct[i+1]\n"
   ]
  },
  {
   "cell_type": "code",
   "execution_count": 220,
   "metadata": {},
   "outputs": [
    {
     "data": {
      "text/html": [
       "<div>\n",
       "<style scoped>\n",
       "    .dataframe tbody tr th:only-of-type {\n",
       "        vertical-align: middle;\n",
       "    }\n",
       "\n",
       "    .dataframe tbody tr th {\n",
       "        vertical-align: top;\n",
       "    }\n",
       "\n",
       "    .dataframe thead th {\n",
       "        text-align: right;\n",
       "    }\n",
       "</style>\n",
       "<table border=\"1\" class=\"dataframe\">\n",
       "  <thead>\n",
       "    <tr style=\"text-align: right;\">\n",
       "      <th></th>\n",
       "      <th>text</th>\n",
       "      <th>title</th>\n",
       "      <th>genre</th>\n",
       "      <th>age_range</th>\n",
       "    </tr>\n",
       "  </thead>\n",
       "  <tbody>\n",
       "    <tr>\n",
       "      <th>0</th>\n",
       "      <td>\\nA simple game of hide-and-seek leads the ch...</td>\n",
       "      <td>HIDE AND SEEK</td>\n",
       "      <td>None</td>\n",
       "      <td>4-12</td>\n",
       "    </tr>\n",
       "    <tr>\n",
       "      <th>1</th>\n",
       "      <td>\\nClick here to read more Free \\n \\nOnce upon...</td>\n",
       "      <td>Ginger The Giraffe</td>\n",
       "      <td>None</td>\n",
       "      <td>4-12</td>\n",
       "    </tr>\n",
       "    <tr>\n",
       "      <th>2</th>\n",
       "      <td>\\nI like doing my chores.\\nWell, maybe not al...</td>\n",
       "      <td>DOING MY CHORES</td>\n",
       "      <td>None</td>\n",
       "      <td>0-7</td>\n",
       "    </tr>\n",
       "    <tr>\n",
       "      <th>3</th>\n",
       "      <td>\\n \\n“Hi, I am Abe and I am a Service Dog.\\nW...</td>\n",
       "      <td>ABE THE SERVICE DOG</td>\n",
       "      <td>None</td>\n",
       "      <td>0-7</td>\n",
       "    </tr>\n",
       "    <tr>\n",
       "      <th>4</th>\n",
       "      <td>\\nThe sun shone brightly over the meadow as C...</td>\n",
       "      <td>SUNNY MEADOWS WOODLAND SCHOOL</td>\n",
       "      <td>None</td>\n",
       "      <td>4-12</td>\n",
       "    </tr>\n",
       "  </tbody>\n",
       "</table>\n",
       "</div>"
      ],
      "text/plain": [
       "                                                text  \\\n",
       "0   \\nA simple game of hide-and-seek leads the ch...   \n",
       "1   \\nClick here to read more Free \\n \\nOnce upon...   \n",
       "2   \\nI like doing my chores.\\nWell, maybe not al...   \n",
       "3   \\n \\n“Hi, I am Abe and I am a Service Dog.\\nW...   \n",
       "4   \\nThe sun shone brightly over the meadow as C...   \n",
       "\n",
       "                           title genre age_range  \n",
       "0                  HIDE AND SEEK  None      4-12  \n",
       "1            Ginger The Giraffe   None      4-12  \n",
       "2                DOING MY CHORES  None       0-7  \n",
       "3            ABE THE SERVICE DOG  None       0-7  \n",
       "4  SUNNY MEADOWS WOODLAND SCHOOL  None      4-12  "
      ]
     },
     "execution_count": 220,
     "metadata": {},
     "output_type": "execute_result"
    }
   ],
   "source": [
    "df.head()"
   ]
  },
  {
   "cell_type": "code",
   "execution_count": 208,
   "metadata": {},
   "outputs": [
    {
     "data": {
      "text/plain": [
       "'“Hi, I am Abe and I am a Service'"
      ]
     },
     "execution_count": 208,
     "metadata": {},
     "output_type": "execute_result"
    }
   ],
   "source": [
    "a = \"\\n \\n“Hi, I am Abe and I am a Service\"\n",
    "\n",
    "a.strip()"
   ]
  },
  {
   "cell_type": "code",
   "execution_count": 224,
   "metadata": {},
   "outputs": [],
   "source": [
    "df.to_csv('data.csv')"
   ]
  },
  {
   "cell_type": "code",
   "execution_count": 223,
   "metadata": {},
   "outputs": [],
   "source": [
    "drop_i = []\n",
    "for i in range(len(df)):\n",
    "    sequence = df['text'][i]\n",
    "    sequence = preprocess_text(sequence)\n",
    "    df['text'][i] = sequence\n",
    "    if \"Click here\" in sequence:\n",
    "        print(sequence)"
   ]
  },
  {
   "cell_type": "code",
   "execution_count": 225,
   "metadata": {},
   "outputs": [
    {
     "data": {
      "text/plain": [
       "' \\n  \\nPlease share our books with your friends and family to support our mission. Thank you \\n '"
      ]
     },
     "execution_count": 225,
     "metadata": {},
     "output_type": "execute_result"
    }
   ],
   "source": [
    "text[19]"
   ]
  },
  {
   "cell_type": "code",
   "execution_count": 228,
   "metadata": {},
   "outputs": [],
   "source": [
    "url = 'https://blog.reedsy.com/short-story/ndit0a/'\n",
    "user_agent = 'Mozilla/5.0 (Windows NT 10.0; Win64; x64) AppleWebKit/537.36 (KHTML, like Gecko) Chrome/107.0.0.0 Safari/537.36 Edg/107.0.1418.26'\n",
    "\n",
    "headers= {'User-Agent':user_agent, \n",
    "        'Accept': 'text/html,application/xhtml+xml,application/xml;q=0.9,*/*;q=0.8',\n",
    "        'Accept-Charset': 'ISO-8859-1,utf-8;q=0.7,*;q=0.3',\n",
    "        'Accept-Encoding': 'none',\n",
    "        'Accept-Language': 'en-US,en;q=0.8',\n",
    "        'Connection': 'keep-alive'}\n",
    "\n",
    "request=urllib.request.Request(url,None,headers) #The assembled request\n",
    "page = urllib.request.urlopen(request)\n",
    "soup = BeautifulSoup(page, 'html.parser')\n",
    "dom = etree.HTML(str(soup))\n"
   ]
  },
  {
   "cell_type": "code",
   "execution_count": 234,
   "metadata": {},
   "outputs": [
    {
     "data": {
      "text/plain": [
       "['Fiction', 'Teens & Young Adult', 'Drama']"
      ]
     },
     "execution_count": 234,
     "metadata": {},
     "output_type": "execute_result"
    }
   ],
   "source": [
    "lst_genres = dom.xpath(\"//a[@class = 'btn-grey-dark btn-xxs btn-rounded space-right-xs-sm']/text()\")\n",
    "lst_text = dom.xpath(\"//article[@class = 'font-alt submission-content space-top-xs-md space-bottom-xs-lg']/p/text()\")"
   ]
  },
  {
   "cell_type": "code",
   "execution_count": 230,
   "metadata": {},
   "outputs": [
    {
     "data": {
      "text/plain": [
       "['Carmen invades my mind a lot, even years after her astonishing death. Life is strange like that, sometimes. How people who didn’t necessarily have a starring role in your life sometimes have the greatest impact.',\n",
       " 'As an adult, I think of Carmen as the mom I want to be. She’s the mom I try to be, even though I will never be as carefree and full of joy as she was. I parent with law and order, Carmen did it with wildness and magic. As a kid, though, Carmen was the mom we all wished was our own. It was the way of preteen girls then and now; your own mother could never understand you the way another one could. Your own mom was never ',\n",
       " '.',\n",
       " 'But Carmen really ',\n",
       " ' cool—to us and to her own children. The other moms had the typical poofy 1980’s hair and the “mom jeans” that have dreadfully come back in style. They sported pinched looks on their Mary Kay-painted faces. But not Carmen. She wore her dark hair long and parted in the middle, hippie-style, and her jeans were throwback bell bottoms, an ode to the decade before. She floated when she walked, as if her bare feet touched clouds instead of pavement. Her face was always devoid of make-up, always shining. Her presence was powerful. When she walked into a room, you immediately felt swathed in her beauty, in her bliss. You immediately became lighter.',\n",
       " 'Carmen didn’t have rules and she didn’t bake cookies or fold laundry. Instead, she let us roller skate in the basement without knee pads and since all of her daughters loved pizza, she served pizza for dinner every night. Her pantry was stocked, and it was a kid’s dream: chips, cookies, and every sugar cereal imaginable—as long as you liked it dry, because there was no guarantee of milk in the fridge. It was a wonder that none of them were overweight, but Carmen’s motto for life extended to food as well—indulge in what you love.',\n",
       " 'In the summer of my twelfth year, she would load up her Volvo station wagon with kids and drive us all to the pool, staying at a time when we were old enough to be dropped off, at a time when we should have been embarrassed to have a mom with us. I had somehow morphed to the age where the idea of my mother lying next to me on a towel, in a bathing suit no less, would have been a social travesty. ',\n",
       " 'But we were never embarrassed of Carmen. It wasn’t just because of how she looked, though that was some of it. She was younger than the other moms. We knew from Tally, the oldest, that Carmen had been just sixteen when she had her. It was blatantly clear that there was no man in Carmen’s life, at least no steady man. She had dates a lot, dropping Tally and her sisters at whoever’s house, winking at the parents and saying ',\n",
       " 'Carmen seemed oblivious to the tight smiles, the judgmental eyes that we all saw, too young to even understand judgment. ',\n",
       " 'It was clear that Tally and her sisters had different fathers. They all resembled Carmen with the long dark hair and tight little gymnast bodies, but their faces were completely different, with only Tally bearing the same stunning, heavily lashed brown-gold eyes. Although it was a time when divorce was coming of age and more of us had broken homes than didn’t, having a baby out of wedlock was still taboo. Having three was shocking. ',\n",
       " 'Tally and her sisters seemed unbothered by it, and I could understand why. Although I myself had a great father, it was as if there was no need for one in Carmen’s family, so rich was it, \\xa0bursting at the seams with love. My parents balanced out with a whole good cop/bad cop routine of parenting, but Carmen had obliterated the need for that. She simply loved: softly and strongly. Her mothering was in the way she listened to us, the way she encouraged us to do thing we might otherwise roll our pre-pubescent eyes at: smell the flowers, lay down in the meadow next to her house and look for constellations, write down our dreams and burn them in a fire under a full moon. She was infused with something contagious.',\n",
       " 'None of us knew what Carmen did for a living because she never seemed to work. I don’t know what she did during the school year, but in the summer nearly all her days were spent with any number of kids—in her house, at the pool, around a campfire. She seemed to be just as comfortable financially as any of our parents. Her house was modest but nice, there was a swimming pool and an acre of untouched land next to it. She drove a Volvo and her girls shopped at The Gap just like everyone else. But there were little signs that she was more well-off than she let on. The dark green Jaguar parked in her garage, the cleaning lady who came on Tuesdays. ',\n",
       " 'The rumor mill was ripe with theories, I deduced, because she was different. Because we all wanted to be with her all the time, and the other parents just couldn’t accept that it was because we ',\n",
       " 'her. They couldn’t accept that a woman just might be independently wealthy by honest means. It couldn’t be a family inheritance or smart investments. No, they presumed, she was a prostitute. She had a secret sugar daddy. She had married one of her children’s fathers and divorced him for a hefty alimony. ',\n",
       " 'I never believed any of that was true. I was a kid, and I didn’t care about how or why Carmen had money.',\n",
       " 'The rumors, obviously, were born out of jealousy. We lived in a small town, and Carmen stood out like a beacon. At the pool, she laid on her towel in a red string bikini, her body with no signs of birthing babies, youth having snapped her right back into shape. She would pile her hair haphazardly on the top of her head, and the messy pieces that fell down gave her a wildly sexual look. She would saunter up to the snack bar with a ten-dollar bill in her hand, and the heads of every middle aged dad and teenage boy would arc towards her. She would drop the money and tell the kid behind the counter to let us get whatever we wanted. ',\n",
       " 'As we grew older, I saw less of Carmen. Tally was really more of my sister’s friend, and the other girls were younger than I was. In high school, I no longer needed rides to the pool or school, but I still looked for Carmen anytime I was somewhere she might be. There was something delicious about her. The way she would break into a genuine smile and run over to you with her arms wide, with hugs and kisses and smelling your hair as though she were enfolding a toddler into her embrace. Her aura would pour into you like a personal serotonin boost. ',\n",
       " 'Sometimes I try to remember the last time I saw Carmen, but memory is a funny thing and has a habit of conglomerating lots of instances into one giant blur. I’ve settled on running into her at Tally and my sister’s high school graduation, one year after my own. In the milling sea of red and blue gowns on the football field, everyone posing for pictures, I spotted her with Tally and the girls. I grabbed my sister’s hand, and we abandoned our own family and ran to Carmen’s.',\n",
       " 'The night was ablaze with excitement, the celebratory vibe pulsing, and Carmen’s unfolding of her arms when she saw us felt regal, familiar. We ran into her, crashing a little too hard, all of us shrieking and forming an awkward group hug that somehow felt perfect. ',\n",
       " '“My girls!” she said, cupping first my face and then my sister’s. We shone under her attention, our faces beaming. This is how I remember her, when I think of her, the long red and white sundress she had on, the dark hair shimmering under the lights on the field, her gold-flecked eyes radiating love. She was pure joy.',\n",
       " 'It would be the last time I saw Carmen. ',\n",
       " 'A few years later, my sister sent me an email, in which she told me that Tally had contacted her to tell that Carmen had cancer, of all things. Melanoma. It seemed strange, being barely in our twenties. We weren’t quite at the stage that parents were dying. And Carmen was what? Thirty-six, thirty-seven? ',\n",
       " ' my sister wrote. ',\n",
       " 'I accepted the news with concern, but not too much concern. I was starting out in the world, working my first job at an advertising agency, dating a cute guy that would one day become my husband. Though Carmen crossed my mind often, the news of her cancer wasn’t something that took up much space. No one died of melanoma, right? Wasn’t that one where they just cut off the offending mole or blemish? ',\n",
       " 'But just six months later, my sister called me, in tears. Tally had reported that the cancer was Stage V and had spread, viciously and relentlessly. My sister choked out that Tally had insisted that ',\n",
       " 'Tally was telling her this was the end. In my head I was unable to accept that this was happening—it was as if my sister were talking about someone else, someone we barely knew. Or as if it was just a rough patch, and Tally was just being dramatic. Carmen would pull through. I was young and naïve, and I didn’t really understand that when you had multiple types of Stage V cancer, you didn’t just pull through. You died.',\n",
       " 'I didn’t go say goodbye.',\n",
       " 'In hindsight, I don’t think I was ready to accept that a woman so full of life could just up and die. It all seemed so incomprehensible to me. Carmen was the most alive person I knew. I had never even lost a grandparent, so I wasn’t ready to accept that anyone died, let alone Carmen. Not Carmen, who danced to music after midnight and taught us how to shave our legs and let sleepovers be real sleepovers, where we stayed up until dawn talking. She was full of life.',\n",
       " 'On the quiet August morning when I sat in my office and saw that I had a new email from my sister, with ',\n",
       " ' as the subject, I froze. I didn’t want to open it, didn’t want to read the inevitable news, didn’t want to confront the guilt I’d been laying on that I hadn’t made a trip home to see her yet. I kept adding on the ',\n",
       " ', as if I was going to go, any day now. ',\n",
       " 'She had been my friend, but so much more—and I hadn’t gone.',\n",
       " 'The funeral was a week later, and I remember so very little of it. A blur of black, so many of us the kids, the people she’d touched when we were in the most formative years of our live. Tally and her sisters sat in the front row, and I remember staring at the back of their heads, all of them bearing long, dark waves that reminded me so much of Carmen. I don’t remember the words that anyone spoke, only the way their hair reminded me of riding in the backseat of the Volvo, the wind whipping Carmen’s long locks while music blasted from the speakers. ',\n",
       " 'After the service, I found Tally outside. Off around a corner of the church, she was smoking a cigarette, looking as glamourous as a girl possibly could on the day of her mother’s burial. Decked out in a black suit with an impossibly short skirt, Tally saw me and opened her free arm in the same characteristic welcoming gesture that her mother had had. ',\n",
       " '“Hey girl,” she said. Her eyes were puffy but dry. We talked about mundane stuff for a moment, the dumb conversations you have when you don’t know what to say. I wanted to say something about why I hadn’t come, but I couldn’t find the words. Instead, I commented on the crowd. ',\n",
       " '“It’s like she raised a village, huh?” I said, nodding my head towards the young adults flocking the outside of the church, waiting for the signal that it was time for the processional to the cemetery to begin. ',\n",
       " 'Tally snorted. “Well, we can’t expect the older folk to attend the funeral of the town escort, can we?”',\n",
       " 'I shook my head. “I never understood that,” I said. “Why people have to make up stuff just because they’re jealous.”',\n",
       " 'Tally gave me a side eye, and a wry smile. “Come on. You know it was the truth. That was common knowledge, no?” ',\n",
       " 'I simply stared at her. I was speechless. ',\n",
       " 'Tally shrugged. “I guess we didn’t really talk about it, but I assumed we all knew. I mean all those dates, and never a boyfriend?” She gave a short laugh. “She was working.”',\n",
       " '“I didn’t know,” I said, swallowing thickly, trying to keep my face empty of shock, trying not to show the assessment that my brain was trying to make. Carmen as a woman who slept with men for money did not resonate with the Carmen of my childhood. ',\n",
       " '“She wasn’t a hooker,” Tally said, defensively. “She was an escort. She was company, mostly, for old guys with money who just wanted a date. She barely slept with any of them, not that it matters.”',\n",
       " 'I just stared at her. I had no idea what to do with this new information, this new piece of Carmen that had apparently, always existed.',\n",
       " 'Tally shook her head and blew out a cloud of smoke. “Not that it matters,” she repeated. “It never did, you know? That was her job. It wasn’t who she was.” Tally dropped the cigarette and twisted her toe over it, turning to stare pointedly at me.',\n",
       " '“',\n",
       " ' know who she was,” she said. The heavy sadness on her face was crushing, the mark of a woman who was, for all intents and purposes, an orphan. ',\n",
       " 'I nodded, reaching out to embrace her. “She was everything,” I whispered, feeling waves of regret for any moment of judgment that had crossed my face. “Everything.” ',\n",
       " 'It’s been a long time since Carmen died, and just as long since I’ve seen Tally or her sisters. We keep in touch via social media, like everyone does these days. I’ve watched Tally and her sisters get married and start families, watched the tightknit unit of the three of them and their husbands and most importantly, their daughters. I see Carmen in every single one of them—in the long, dark hair, in the crazy family parties, in the way they all laugh the same, with their whole heads thrown back.',\n",
       " 'I think about how my mother and her friends were right, after all. That Carmen was a woman who had sex for money, sometimes. As if that was the whole of her, the entirety of her being, peppered with a history of being a teenage mother and having children from different fathers. As if it wasn’t just a way to make a solid living. As if those things so exclusively defined her that there was no room for anything else, no room for truth or friendship or love.',\n",
       " 'But Tally was right. ',\n",
       " ' knew who she was. I knew her as a mom who made our childhood feel magical, who listened to us in our teenage years, who spread joy wherever she went. I knew her as someone who did everything for her kids, her biological ones, and the rest of us who fell in love with her. I knew her as a person in the back of my mind, always, when I had my own daughters and began the hard work of raising girls. I thought of how easy she made it seem, as if all it took was giving in, pizza and soda, no bedtimes, no boundaries. ',\n",
       " 'Mostly, I’m not a mom like Carmen. I’m a mom who sleep-trained babies, who had strict bedtimes and grounded a child who took out her bike without a helmet. I have rules and boundaries and schedules…but sometimes, I like to think pieces of Carmen invade me, loosen up my joints and my heart and my breathlessness at life. ',\n",
       " 'Because what she really taught us was how to grasp the moment. How to say ',\n",
       " ' when my girls ask if they can make brownies for breakfast. How to sit and listen without turning every situation into a teaching moment. How to be silly and to have fun even if people look at you funny. How to hug someone so there is never a doubt how much you love them.',\n",
       " 'My daughters and their friends are close to the age I was during those magical years of pool summers and stargazing. I feel this pull to emanate Carmen when I drive them around, when I let them blast music with the windows rolled down. I feel her when I catch their faces in the rearview mirror, their beautiful, unabashed delight. ',\n",
       " 'I can see myself in them, years ago, wild and free in the back of a Volvo, me and Tally and our sisters, singing along to Madonna. At the wheel, Carmen’s hair flies around her like a halo, her gorgeous face in the rearview mirror, her voice the strongest and most beautiful of us all.\\xa0']"
      ]
     },
     "execution_count": 230,
     "metadata": {},
     "output_type": "execute_result"
    }
   ],
   "source": [
    "dom.xpath(\"//article[@class = 'font-alt submission-content space-top-xs-md space-bottom-xs-lg']/p/text()\")"
   ]
  },
  {
   "cell_type": "code",
   "execution_count": 5,
   "metadata": {},
   "outputs": [],
   "source": [
    "import pandas as pd\n",
    "\n",
    "x = pd.read_csv('crawler\\crawler\\data_kid.csv')\n"
   ]
  },
  {
   "cell_type": "code",
   "execution_count": 6,
   "metadata": {},
   "outputs": [
    {
     "data": {
      "text/plain": [
       "1500"
      ]
     },
     "execution_count": 6,
     "metadata": {},
     "output_type": "execute_result"
    }
   ],
   "source": [
    "len(x)"
   ]
  },
  {
   "cell_type": "code",
   "execution_count": 8,
   "metadata": {},
   "outputs": [
    {
     "data": {
      "text/html": [
       "<div>\n",
       "<style scoped>\n",
       "    .dataframe tbody tr th:only-of-type {\n",
       "        vertical-align: middle;\n",
       "    }\n",
       "\n",
       "    .dataframe tbody tr th {\n",
       "        vertical-align: top;\n",
       "    }\n",
       "\n",
       "    .dataframe thead th {\n",
       "        text-align: right;\n",
       "    }\n",
       "</style>\n",
       "<table border=\"1\" class=\"dataframe\">\n",
       "  <thead>\n",
       "    <tr style=\"text-align: right;\">\n",
       "      <th></th>\n",
       "      <th>age_range</th>\n",
       "      <th>genre</th>\n",
       "      <th>text</th>\n",
       "      <th>title</th>\n",
       "    </tr>\n",
       "  </thead>\n",
       "  <tbody>\n",
       "    <tr>\n",
       "      <th>0</th>\n",
       "      <td>NaN</td>\n",
       "      <td>Inspirational, Kids, Contemporary</td>\n",
       "      <td>The Decision\\n \\n \\n\\tAnna walked to the back ...</td>\n",
       "      <td>The Decision</td>\n",
       "    </tr>\n",
       "    <tr>\n",
       "      <th>1</th>\n",
       "      <td>NaN</td>\n",
       "      <td>Bedtime, Coming of Age, Kids</td>\n",
       "      <td>\\nYou ever get accused of doing something you...</td>\n",
       "      <td>The Innocent One</td>\n",
       "    </tr>\n",
       "    <tr>\n",
       "      <th>2</th>\n",
       "      <td>NaN</td>\n",
       "      <td>Kids, Funny, Adventure</td>\n",
       "      <td>\\tBy the time Gilbert Einstein opened his eyes...</td>\n",
       "      <td>Cheesy Kid's Stuff</td>\n",
       "    </tr>\n",
       "    <tr>\n",
       "      <th>3</th>\n",
       "      <td>NaN</td>\n",
       "      <td>Fiction, Funny, Kids</td>\n",
       "      <td>\\n“It is the best!” screamed Martha.\\n“Jacob ...</td>\n",
       "      <td>Cheesy without Cheese</td>\n",
       "    </tr>\n",
       "    <tr>\n",
       "      <th>4</th>\n",
       "      <td>NaN</td>\n",
       "      <td>Bedtime, Fiction, Kids</td>\n",
       "      <td>Teddy was out of sorts. This afternoon’s visit...</td>\n",
       "      <td>Are You All  Over the Meadow?</td>\n",
       "    </tr>\n",
       "  </tbody>\n",
       "</table>\n",
       "</div>"
      ],
      "text/plain": [
       "  age_range                              genre  \\\n",
       "0       NaN  Inspirational, Kids, Contemporary   \n",
       "1       NaN       Bedtime, Coming of Age, Kids   \n",
       "2       NaN             Kids, Funny, Adventure   \n",
       "3       NaN               Fiction, Funny, Kids   \n",
       "4       NaN             Bedtime, Fiction, Kids   \n",
       "\n",
       "                                                text  \\\n",
       "0  The Decision\\n \\n \\n\\tAnna walked to the back ...   \n",
       "1   \\nYou ever get accused of doing something you...   \n",
       "2  \\tBy the time Gilbert Einstein opened his eyes...   \n",
       "3   \\n“It is the best!” screamed Martha.\\n“Jacob ...   \n",
       "4  Teddy was out of sorts. This afternoon’s visit...   \n",
       "\n",
       "                           title  \n",
       "0                   The Decision  \n",
       "1               The Innocent One  \n",
       "2             Cheesy Kid's Stuff  \n",
       "3          Cheesy without Cheese  \n",
       "4  Are You All  Over the Meadow?  "
      ]
     },
     "execution_count": 8,
     "metadata": {},
     "output_type": "execute_result"
    }
   ],
   "source": [
    "x.head()"
   ]
  }
 ],
 "metadata": {
  "kernelspec": {
   "display_name": "Python 3.9.13 ('crawl')",
   "language": "python",
   "name": "python3"
  },
  "language_info": {
   "codemirror_mode": {
    "name": "ipython",
    "version": 3
   },
   "file_extension": ".py",
   "mimetype": "text/x-python",
   "name": "python",
   "nbconvert_exporter": "python",
   "pygments_lexer": "ipython3",
   "version": "3.9.13"
  },
  "orig_nbformat": 4,
  "vscode": {
   "interpreter": {
    "hash": "656dd37a02b45f7689f6e88b37f9e31ea88e71e97644a49d46308387e5435264"
   }
  }
 },
 "nbformat": 4,
 "nbformat_minor": 2
}
